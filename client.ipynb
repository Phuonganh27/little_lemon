{
 "cells": [
  {
   "cell_type": "code",
   "execution_count": 97,
   "id": "87a85f4e",
   "metadata": {
    "scrolled": true
   },
   "outputs": [],
   "source": [
    "import mysql.connector as connector"
   ]
  },
  {
   "cell_type": "code",
   "execution_count": 98,
   "id": "eb142634",
   "metadata": {},
   "outputs": [],
   "source": [
    "connection=connector.connect(user=\"root\", password = \"root\", database = \"little_lemon\")"
   ]
  },
  {
   "cell_type": "code",
   "execution_count": 99,
   "id": "26243c59",
   "metadata": {},
   "outputs": [],
   "source": [
    "cursor = connection.cursor()"
   ]
  },
  {
   "cell_type": "code",
   "execution_count": 100,
   "id": "12b68c25",
   "metadata": {},
   "outputs": [],
   "source": [
    "show_table = \"\"\"show tables;\"\"\""
   ]
  },
  {
   "cell_type": "code",
   "execution_count": 101,
   "id": "752b2117",
   "metadata": {},
   "outputs": [],
   "source": [
    "cursor.execute(show_table)"
   ]
  },
  {
   "cell_type": "code",
   "execution_count": 102,
   "id": "a3830560",
   "metadata": {},
   "outputs": [
    {
     "name": "stdout",
     "output_type": "stream",
     "text": [
      "('Bookings',)\n",
      "('Customers',)\n",
      "('DeliveryStatus',)\n",
      "('Employees',)\n",
      "('MenuItems',)\n",
      "('Menus',)\n",
      "('Orders',)\n"
     ]
    }
   ],
   "source": [
    "results = cursor.fetchall()\n",
    "for r in results:\n",
    "    print(r)"
   ]
  },
  {
   "cell_type": "code",
   "execution_count": 103,
   "id": "0ebddbb5",
   "metadata": {},
   "outputs": [],
   "source": [
    "connection.close()\n"
   ]
  },
  {
   "cell_type": "code",
   "execution_count": null,
   "id": "858897b7",
   "metadata": {},
   "outputs": [],
   "source": []
  },
  {
   "cell_type": "code",
   "execution_count": null,
   "id": "b8de1b13",
   "metadata": {},
   "outputs": [],
   "source": []
  }
 ],
 "metadata": {
  "kernelspec": {
   "display_name": "Python 3",
   "language": "python",
   "name": "python3"
  },
  "language_info": {
   "codemirror_mode": {
    "name": "ipython",
    "version": 3
   },
   "file_extension": ".py",
   "mimetype": "text/x-python",
   "name": "python",
   "nbconvert_exporter": "python",
   "pygments_lexer": "ipython3",
   "version": "3.8.8"
  }
 },
 "nbformat": 4,
 "nbformat_minor": 5
}
